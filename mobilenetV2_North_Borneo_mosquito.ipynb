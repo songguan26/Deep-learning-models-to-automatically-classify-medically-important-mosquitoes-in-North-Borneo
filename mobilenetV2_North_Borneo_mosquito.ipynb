{
  "nbformat": 4,
  "nbformat_minor": 0,
  "metadata": {
    "colab": {
      "provenance": [],
      "machine_shape": "hm",
      "authorship_tag": "ABX9TyO2qU6JXGmfbrt88sQ7OxH+",
      "include_colab_link": true
    },
    "kernelspec": {
      "name": "python3",
      "display_name": "Python 3"
    },
    "language_info": {
      "name": "python"
    },
    "accelerator": "GPU"
  },
  "cells": [
    {
      "cell_type": "markdown",
      "metadata": {
        "id": "view-in-github",
        "colab_type": "text"
      },
      "source": [
        "<a href=\"https://colab.research.google.com/github/songguan26/Deep-learning-models-to-automatically-classify-medically-important-mosquitoes-in-North-Borneo/blob/main/mobilenetV2_North_Borneo_mosquito.ipynb\" target=\"_parent\"><img src=\"https://colab.research.google.com/assets/colab-badge.svg\" alt=\"Open In Colab\"/></a>"
      ]
    },
    {
      "cell_type": "code",
      "execution_count": null,
      "metadata": {
        "colab": {
          "base_uri": "https://localhost:8080/"
        },
        "id": "o9ky8S38uqb2",
        "outputId": "cd2afd11-04c2-4910-f8ab-c7d36696a422"
      },
      "outputs": [
        {
          "output_type": "stream",
          "name": "stdout",
          "text": [
            "Mounted at /content/drive\n"
          ]
        }
      ],
      "source": [
        "from google.colab import drive\n",
        "drive.mount('/content/drive')"
      ]
    },
    {
      "cell_type": "code",
      "source": [
        "import numpy as np # linear algebra\n",
        "import pandas as pd # data processing, CSV file I/O (e.g. pd.read_csv)\n",
        "\n",
        "import random\n",
        "import os\n",
        "import cv2\n",
        "from IPython.display import Image\n",
        "import matplotlib.pyplot as plt\n",
        "import seaborn as sns\n",
        "\n",
        "from sklearn.metrics import classification_report\n",
        "from collections import Counter\n",
        "\n",
        "import PIL.Image as Image\n",
        "import os\n",
        "\n",
        "import matplotlib.pylab as plt\n",
        "\n",
        "import tensorflow as tf\n",
        "import tensorflow_hub as hub\n",
        "\n",
        "from tensorflow import keras\n",
        "from tensorflow.keras import layers\n",
        "from tensorflow.keras.models import Sequential\n",
        "\n",
        "import keras\n",
        "from tensorflow.keras.preprocessing.image import ImageDataGenerator\n",
        "from keras.callbacks import ReduceLROnPlateau\n",
        "from tensorflow.keras.applications.mobilenet_v2 import MobileNetV2\n",
        "\n",
        "from tensorflow.keras.utils import plot_model\n",
        "from tensorflow.keras.optimizers import Adam, SGD\n",
        "from keras import Model, layers\n",
        "from keras.models import Sequential\n",
        "from keras.layers import GlobalMaxPooling2D, GlobalAveragePooling2D, Dropout, Dense, Input, Conv2D, MaxPooling2D, Flatten,MaxPooling3D"
      ],
      "metadata": {
        "id": "4sA8TrcKvv-B"
      },
      "execution_count": null,
      "outputs": []
    },
    {
      "cell_type": "code",
      "source": [
        "!nvidia-smi"
      ],
      "metadata": {
        "colab": {
          "base_uri": "https://localhost:8080/"
        },
        "id": "maJEKtmQvv7B",
        "outputId": "b5f20dbc-30f9-4c5f-ad89-c95021b005b6"
      },
      "execution_count": null,
      "outputs": [
        {
          "output_type": "stream",
          "name": "stdout",
          "text": [
            "Sat Jun 24 10:54:13 2023       \n",
            "+-----------------------------------------------------------------------------+\n",
            "| NVIDIA-SMI 525.85.12    Driver Version: 525.85.12    CUDA Version: 12.0     |\n",
            "|-------------------------------+----------------------+----------------------+\n",
            "| GPU  Name        Persistence-M| Bus-Id        Disp.A | Volatile Uncorr. ECC |\n",
            "| Fan  Temp  Perf  Pwr:Usage/Cap|         Memory-Usage | GPU-Util  Compute M. |\n",
            "|                               |                      |               MIG M. |\n",
            "|===============================+======================+======================|\n",
            "|   0  Tesla T4            Off  | 00000000:00:04.0 Off |                    0 |\n",
            "| N/A   46C    P8     9W /  70W |      0MiB / 15360MiB |      0%      Default |\n",
            "|                               |                      |                  N/A |\n",
            "+-------------------------------+----------------------+----------------------+\n",
            "                                                                               \n",
            "+-----------------------------------------------------------------------------+\n",
            "| Processes:                                                                  |\n",
            "|  GPU   GI   CI        PID   Type   Process name                  GPU Memory |\n",
            "|        ID   ID                                                   Usage      |\n",
            "|=============================================================================|\n",
            "|  No running processes found                                                 |\n",
            "+-----------------------------------------------------------------------------+\n"
          ]
        }
      ]
    },
    {
      "cell_type": "code",
      "source": [
        "root_path = 'path to images'\n",
        "train_pred_test_folders = os.listdir(root_path)\n",
        "\n",
        "seg_train_folders = 'train'\n",
        "seg_test_folders = 'test'\n",
        "seg_pred_folders = 'pred'"
      ],
      "metadata": {
        "id": "y-zhgVL-vv4P"
      },
      "execution_count": null,
      "outputs": []
    },
    {
      "cell_type": "code",
      "source": [
        "def do_history_stuff(history, history_file_name, ismobilenet=False):\n",
        "    save_history(history, history_file_name)\n",
        "    plot_accuracy_from_history(history, ismobilenet)\n",
        "    plot_loss_from_history(history)\n",
        "\n",
        "def save_history(history, model_name):\n",
        "    #convert the history.history dict to a pandas DataFrame:\n",
        "    hist_df = pd.DataFrame(history.history)\n",
        "\n",
        "    # save to json:\n",
        "    hist_json_file = model_name+'_history.json'\n",
        "    with open(hist_json_file, mode='w') as f:\n",
        "        hist_df.to_json(f)\n",
        "\n",
        "    # or save to csv:\n",
        "    hist_csv_file = model_name+'_history.csv'\n",
        "    with open(hist_csv_file, mode='w') as f:\n",
        "        hist_df.to_csv(f)\n",
        "\n",
        "def plot_accuracy_from_history(history, ismobilenet=False):\n",
        "    color = sns.color_palette()\n",
        "    if(ismobilenet == False):\n",
        "        acc = history.history['accuracy']\n",
        "        val_acc = history.history['val_accuracy']\n",
        "    else:\n",
        "        acc = history.history['accuracy']\n",
        "        val_acc = history.history['val_accuracy']\n",
        "\n",
        "\n",
        "    epochs = range(len(acc))\n",
        "\n",
        "    sns.lineplot(x=epochs, y=acc, label='Training Accuracy')\n",
        "    sns.lineplot(x=epochs, y=val_acc,label='Validation Accuracy')\n",
        "    plt.title('Training and Validation Accuracy')\n",
        "    plt.legend()\n",
        "    plt.figure()\n",
        "    plt.show()\n",
        "\n",
        "def plot_loss_from_history(history):\n",
        "    color = sns.color_palette()\n",
        "    loss = history.history['loss']\n",
        "    val_loss = history.history['val_loss']\n",
        "\n",
        "    epochs = range(len(loss))\n",
        "\n",
        "    sns.lineplot(x=epochs, y=loss,label='Training Loss')\n",
        "    sns.lineplot(x=epochs, y=val_loss, label='Validation Loss')\n",
        "    plt.title('Training and Validation Loss')\n",
        "    plt.legend()\n",
        "    plt.figure()\n",
        "    plt.show()"
      ],
      "metadata": {
        "id": "vvyl9Uofvv1n"
      },
      "execution_count": null,
      "outputs": []
    },
    {
      "cell_type": "code",
      "source": [
        "train_datagen = ImageDataGenerator( rescale = 1.0/255.,shear_range=0.2,zoom_range=0.0)\n",
        "\n",
        "# we are rescaling by 1.0/255 to normalize the rgb values if they are in range 0-255 the values are too high for good model performance.\n",
        "train_generator = train_datagen.flow_from_directory(seg_train_folders,\n",
        "                                                    batch_size=32,\n",
        "                                                    shuffle=True,\n",
        "                                                    class_mode='categorical',\n",
        "                                                    target_size=(224, 224))\n",
        "\n",
        "validation_datagen = ImageDataGenerator(rescale = 1.0/255.) #we are only normalising to make the prediction, the other parameters were used for agumentation and train weights\n",
        "validation_generator = validation_datagen.flow_from_directory(seg_test_folders, shuffle=True, batch_size=32, class_mode='categorical', target_size=(224, 224))\n",
        "\n",
        "test_datagen = ImageDataGenerator(rescale = 1.0/255.)\n",
        "test_generator = test_datagen.flow_from_directory(seg_pred_folders, shuffle=True, batch_size=32, class_mode='categorical', target_size=(224, 224))"
      ],
      "metadata": {
        "colab": {
          "base_uri": "https://localhost:8080/"
        },
        "id": "BfY94Qkevvy9",
        "outputId": "1f5bfec6-ad9e-4028-aeb1-69eeff2ce2bc"
      },
      "execution_count": null,
      "outputs": [
        {
          "output_type": "stream",
          "name": "stdout",
          "text": [
            "Found 392 images belonging to 2 classes.\n",
            "Found 104 images belonging to 2 classes.\n",
            "Found 96 images belonging to 2 classes.\n"
          ]
        }
      ]
    },
    {
      "cell_type": "code",
      "source": [
        "inv_map_classes = {v: k for k, v in validation_generator.class_indices.items()}\n",
        "print(validation_generator.class_indices)\n",
        "print(inv_map_classes)"
      ],
      "metadata": {
        "colab": {
          "base_uri": "https://localhost:8080/"
        },
        "id": "jS0DgjG1vvwF",
        "outputId": "460a2549-d920-41ca-86f0-acb6071e7210"
      },
      "execution_count": null,
      "outputs": [
        {
          "output_type": "stream",
          "name": "stdout",
          "text": [
            "{'red_flour_beetle': 0, 'rice_weevil': 1}\n",
            "{0: 'red_flour_beetle', 1: 'rice_weevil'}\n"
          ]
        }
      ]
    },
    {
      "cell_type": "code",
      "source": [
        "#strategy one ->adamlr0.001\n",
        "#freezing convolutional layers; replacing classification layers\n",
        "MobileNetV2_model = MobileNetV2(weights='imagenet', include_top=False, input_shape=(224,224,3))\n",
        "for layers in MobileNetV2_model.layers:\n",
        "            layers.trainable=False\n",
        "\n",
        "last_output = MobileNetV2_model.layers[-1].output\n",
        "MobileNetV2_x = Flatten()(last_output)\n",
        "MobileNetV2_x = Dense(128, activation = 'relu')(MobileNetV2_x)\n",
        "MobileNetV2_x = Dropout(0.3)(MobileNetV2_x)\n",
        "MobileNetV2_x = Dense(2, activation = 'softmax')(MobileNetV2_x)\n",
        "MobileNetV2_final_model = Model(MobileNetV2_model.input, MobileNetV2_x)\n",
        "MobileNetV2_final_model.compile(optimizer=Adam(learning_rate=0.00001), loss='categorical_crossentropy',metrics=['accuracy'])\n",
        "\n",
        "# MobileNetV2\n",
        "MobileNetV2_filepath = 'MobileNetV2'+'-saved-model-{epoch:02d}-loss-{loss:.2f}.hdf5'\n",
        "MobileNetV2_checkpoint = tf.keras.callbacks.ModelCheckpoint(MobileNetV2_filepath, monitor='val_accuracy', verbose=1, save_best_only=True, mode='max')\n",
        "MobileNetV2_early_stopping = tf.keras.callbacks.EarlyStopping(monitor='loss', patience=5)\n",
        "MobileNetV2_history = MobileNetV2_final_model.fit(train_generator, epochs = 100, batch_size=32, validation_data = validation_generator,callbacks=[MobileNetV2_checkpoint,MobileNetV2_early_stopping],verbose=1)\n",
        "\n",
        "do_history_stuff(MobileNetV2_history, 'MobileNetV2_model')"
      ],
      "metadata": {
        "colab": {
          "base_uri": "https://localhost:8080/",
          "height": 1000
        },
        "id": "relYXDcgvvtc",
        "outputId": "0507a3fa-1ba5-4a7b-b83d-9a1b6e8a82c4"
      },
      "execution_count": null,
      "outputs": [
        {
          "output_type": "stream",
          "name": "stdout",
          "text": [
            "Epoch 1/100\n",
            "13/13 [==============================] - ETA: 0s - loss: 1.1864 - accuracy: 0.6327\n",
            "Epoch 1: val_accuracy improved from -inf to 0.87500, saving model to MobileNetV2-saved-model-01-loss-1.19.hdf5\n",
            "13/13 [==============================] - 9s 453ms/step - loss: 1.1864 - accuracy: 0.6327 - val_loss: 0.2800 - val_accuracy: 0.8750\n",
            "Epoch 2/100\n",
            "13/13 [==============================] - ETA: 0s - loss: 0.3275 - accuracy: 0.8622\n",
            "Epoch 2: val_accuracy improved from 0.87500 to 0.95192, saving model to MobileNetV2-saved-model-02-loss-0.33.hdf5\n",
            "13/13 [==============================] - 5s 380ms/step - loss: 0.3275 - accuracy: 0.8622 - val_loss: 0.1059 - val_accuracy: 0.9519\n",
            "Epoch 3/100\n",
            "13/13 [==============================] - ETA: 0s - loss: 0.1291 - accuracy: 0.9439\n",
            "Epoch 3: val_accuracy improved from 0.95192 to 0.97115, saving model to MobileNetV2-saved-model-03-loss-0.13.hdf5\n",
            "13/13 [==============================] - 5s 395ms/step - loss: 0.1291 - accuracy: 0.9439 - val_loss: 0.0692 - val_accuracy: 0.9712\n",
            "Epoch 4/100\n",
            "13/13 [==============================] - ETA: 0s - loss: 0.0692 - accuracy: 0.9719\n",
            "Epoch 4: val_accuracy did not improve from 0.97115\n",
            "13/13 [==============================] - 5s 349ms/step - loss: 0.0692 - accuracy: 0.9719 - val_loss: 0.0714 - val_accuracy: 0.9712\n",
            "Epoch 5/100\n",
            "13/13 [==============================] - ETA: 0s - loss: 0.0523 - accuracy: 0.9898\n",
            "Epoch 5: val_accuracy improved from 0.97115 to 1.00000, saving model to MobileNetV2-saved-model-05-loss-0.05.hdf5\n",
            "13/13 [==============================] - 5s 379ms/step - loss: 0.0523 - accuracy: 0.9898 - val_loss: 0.0421 - val_accuracy: 1.0000\n",
            "Epoch 6/100\n",
            "13/13 [==============================] - ETA: 0s - loss: 0.0331 - accuracy: 0.9923\n",
            "Epoch 6: val_accuracy did not improve from 1.00000\n",
            "13/13 [==============================] - 5s 364ms/step - loss: 0.0331 - accuracy: 0.9923 - val_loss: 0.0407 - val_accuracy: 0.9904\n",
            "Epoch 7/100\n",
            "13/13 [==============================] - ETA: 0s - loss: 0.0363 - accuracy: 0.9872\n",
            "Epoch 7: val_accuracy did not improve from 1.00000\n",
            "13/13 [==============================] - 5s 348ms/step - loss: 0.0363 - accuracy: 0.9872 - val_loss: 0.0386 - val_accuracy: 0.9904\n",
            "Epoch 8/100\n",
            "13/13 [==============================] - ETA: 0s - loss: 0.0254 - accuracy: 0.9974\n",
            "Epoch 8: val_accuracy did not improve from 1.00000\n",
            "13/13 [==============================] - 5s 352ms/step - loss: 0.0254 - accuracy: 0.9974 - val_loss: 0.0399 - val_accuracy: 0.9904\n",
            "Epoch 9/100\n",
            "13/13 [==============================] - ETA: 0s - loss: 0.0210 - accuracy: 0.9923\n",
            "Epoch 9: val_accuracy did not improve from 1.00000\n",
            "13/13 [==============================] - 5s 356ms/step - loss: 0.0210 - accuracy: 0.9923 - val_loss: 0.0378 - val_accuracy: 0.9904\n",
            "Epoch 10/100\n",
            "13/13 [==============================] - ETA: 0s - loss: 0.0156 - accuracy: 0.9974\n",
            "Epoch 10: val_accuracy did not improve from 1.00000\n",
            "13/13 [==============================] - 4s 343ms/step - loss: 0.0156 - accuracy: 0.9974 - val_loss: 0.0354 - val_accuracy: 0.9904\n",
            "Epoch 11/100\n",
            "13/13 [==============================] - ETA: 0s - loss: 0.0099 - accuracy: 1.0000\n",
            "Epoch 11: val_accuracy did not improve from 1.00000\n",
            "13/13 [==============================] - 5s 356ms/step - loss: 0.0099 - accuracy: 1.0000 - val_loss: 0.0425 - val_accuracy: 0.9904\n",
            "Epoch 12/100\n",
            "13/13 [==============================] - ETA: 0s - loss: 0.0219 - accuracy: 0.9974\n",
            "Epoch 12: val_accuracy did not improve from 1.00000\n",
            "13/13 [==============================] - 5s 353ms/step - loss: 0.0219 - accuracy: 0.9974 - val_loss: 0.0325 - val_accuracy: 0.9904\n",
            "Epoch 13/100\n",
            "13/13 [==============================] - ETA: 0s - loss: 0.0119 - accuracy: 0.9974\n",
            "Epoch 13: val_accuracy did not improve from 1.00000\n",
            "13/13 [==============================] - 5s 354ms/step - loss: 0.0119 - accuracy: 0.9974 - val_loss: 0.0310 - val_accuracy: 0.9904\n",
            "Epoch 14/100\n",
            "13/13 [==============================] - ETA: 0s - loss: 0.0118 - accuracy: 1.0000\n",
            "Epoch 14: val_accuracy did not improve from 1.00000\n",
            "13/13 [==============================] - 5s 403ms/step - loss: 0.0118 - accuracy: 1.0000 - val_loss: 0.0298 - val_accuracy: 0.9904\n",
            "Epoch 15/100\n",
            "13/13 [==============================] - ETA: 0s - loss: 0.0081 - accuracy: 1.0000\n",
            "Epoch 15: val_accuracy did not improve from 1.00000\n",
            "13/13 [==============================] - 5s 372ms/step - loss: 0.0081 - accuracy: 1.0000 - val_loss: 0.0323 - val_accuracy: 0.9904\n",
            "Epoch 16/100\n",
            "13/13 [==============================] - ETA: 0s - loss: 0.0137 - accuracy: 0.9974\n",
            "Epoch 16: val_accuracy did not improve from 1.00000\n",
            "13/13 [==============================] - 5s 351ms/step - loss: 0.0137 - accuracy: 0.9974 - val_loss: 0.0272 - val_accuracy: 0.9904\n",
            "Epoch 17/100\n",
            "13/13 [==============================] - ETA: 0s - loss: 0.0065 - accuracy: 1.0000\n",
            "Epoch 17: val_accuracy did not improve from 1.00000\n",
            "13/13 [==============================] - 5s 354ms/step - loss: 0.0065 - accuracy: 1.0000 - val_loss: 0.0294 - val_accuracy: 0.9904\n",
            "Epoch 18/100\n",
            "13/13 [==============================] - ETA: 0s - loss: 0.0074 - accuracy: 0.9974\n",
            "Epoch 18: val_accuracy did not improve from 1.00000\n",
            "13/13 [==============================] - 5s 349ms/step - loss: 0.0074 - accuracy: 0.9974 - val_loss: 0.0242 - val_accuracy: 1.0000\n",
            "Epoch 19/100\n",
            "13/13 [==============================] - ETA: 0s - loss: 0.0092 - accuracy: 1.0000\n",
            "Epoch 19: val_accuracy did not improve from 1.00000\n",
            "13/13 [==============================] - 5s 375ms/step - loss: 0.0092 - accuracy: 1.0000 - val_loss: 0.0232 - val_accuracy: 1.0000\n",
            "Epoch 20/100\n",
            "13/13 [==============================] - ETA: 0s - loss: 0.0069 - accuracy: 0.9974\n",
            "Epoch 20: val_accuracy did not improve from 1.00000\n",
            "13/13 [==============================] - 5s 347ms/step - loss: 0.0069 - accuracy: 0.9974 - val_loss: 0.0246 - val_accuracy: 0.9904\n",
            "Epoch 21/100\n",
            "13/13 [==============================] - ETA: 0s - loss: 0.0063 - accuracy: 1.0000\n",
            "Epoch 21: val_accuracy did not improve from 1.00000\n",
            "13/13 [==============================] - 5s 349ms/step - loss: 0.0063 - accuracy: 1.0000 - val_loss: 0.0246 - val_accuracy: 0.9904\n",
            "Epoch 22/100\n",
            "13/13 [==============================] - ETA: 0s - loss: 0.0061 - accuracy: 1.0000\n",
            "Epoch 22: val_accuracy did not improve from 1.00000\n",
            "13/13 [==============================] - 5s 354ms/step - loss: 0.0061 - accuracy: 1.0000 - val_loss: 0.0257 - val_accuracy: 0.9904\n",
            "Epoch 23/100\n",
            "13/13 [==============================] - ETA: 0s - loss: 0.0044 - accuracy: 1.0000\n",
            "Epoch 23: val_accuracy did not improve from 1.00000\n",
            "13/13 [==============================] - 5s 347ms/step - loss: 0.0044 - accuracy: 1.0000 - val_loss: 0.0226 - val_accuracy: 1.0000\n",
            "Epoch 24/100\n",
            "13/13 [==============================] - ETA: 0s - loss: 0.0043 - accuracy: 1.0000\n",
            "Epoch 24: val_accuracy did not improve from 1.00000\n",
            "13/13 [==============================] - 5s 346ms/step - loss: 0.0043 - accuracy: 1.0000 - val_loss: 0.0235 - val_accuracy: 0.9904\n",
            "Epoch 25/100\n",
            "13/13 [==============================] - ETA: 0s - loss: 0.0035 - accuracy: 1.0000\n",
            "Epoch 25: val_accuracy did not improve from 1.00000\n",
            "13/13 [==============================] - 5s 354ms/step - loss: 0.0035 - accuracy: 1.0000 - val_loss: 0.0202 - val_accuracy: 1.0000\n",
            "Epoch 26/100\n",
            "13/13 [==============================] - ETA: 0s - loss: 0.0032 - accuracy: 1.0000\n",
            "Epoch 26: val_accuracy did not improve from 1.00000\n",
            "13/13 [==============================] - 4s 338ms/step - loss: 0.0032 - accuracy: 1.0000 - val_loss: 0.0200 - val_accuracy: 1.0000\n",
            "Epoch 27/100\n",
            "13/13 [==============================] - ETA: 0s - loss: 0.0023 - accuracy: 1.0000\n",
            "Epoch 27: val_accuracy did not improve from 1.00000\n",
            "13/13 [==============================] - 5s 360ms/step - loss: 0.0023 - accuracy: 1.0000 - val_loss: 0.0214 - val_accuracy: 0.9904\n",
            "Epoch 28/100\n",
            "13/13 [==============================] - ETA: 0s - loss: 0.0029 - accuracy: 1.0000\n",
            "Epoch 28: val_accuracy did not improve from 1.00000\n",
            "13/13 [==============================] - 4s 340ms/step - loss: 0.0029 - accuracy: 1.0000 - val_loss: 0.0198 - val_accuracy: 1.0000\n",
            "Epoch 29/100\n",
            "13/13 [==============================] - ETA: 0s - loss: 0.0026 - accuracy: 1.0000\n",
            "Epoch 29: val_accuracy did not improve from 1.00000\n",
            "13/13 [==============================] - 4s 338ms/step - loss: 0.0026 - accuracy: 1.0000 - val_loss: 0.0212 - val_accuracy: 0.9904\n",
            "Epoch 30/100\n",
            "13/13 [==============================] - ETA: 0s - loss: 0.0029 - accuracy: 1.0000\n",
            "Epoch 30: val_accuracy did not improve from 1.00000\n",
            "13/13 [==============================] - 5s 362ms/step - loss: 0.0029 - accuracy: 1.0000 - val_loss: 0.0231 - val_accuracy: 0.9904\n",
            "Epoch 31/100\n",
            "13/13 [==============================] - ETA: 0s - loss: 0.0029 - accuracy: 1.0000\n",
            "Epoch 31: val_accuracy did not improve from 1.00000\n",
            "13/13 [==============================] - 4s 343ms/step - loss: 0.0029 - accuracy: 1.0000 - val_loss: 0.0267 - val_accuracy: 0.9904\n",
            "Epoch 32/100\n",
            "13/13 [==============================] - ETA: 0s - loss: 0.0022 - accuracy: 1.0000\n",
            "Epoch 32: val_accuracy did not improve from 1.00000\n",
            "13/13 [==============================] - 5s 351ms/step - loss: 0.0022 - accuracy: 1.0000 - val_loss: 0.0220 - val_accuracy: 0.9904\n",
            "Epoch 33/100\n",
            "13/13 [==============================] - ETA: 0s - loss: 0.0024 - accuracy: 1.0000\n",
            "Epoch 33: val_accuracy did not improve from 1.00000\n",
            "13/13 [==============================] - 5s 353ms/step - loss: 0.0024 - accuracy: 1.0000 - val_loss: 0.0224 - val_accuracy: 0.9904\n",
            "Epoch 34/100\n",
            "13/13 [==============================] - ETA: 0s - loss: 0.0023 - accuracy: 1.0000\n",
            "Epoch 34: val_accuracy did not improve from 1.00000\n",
            "13/13 [==============================] - 5s 344ms/step - loss: 0.0023 - accuracy: 1.0000 - val_loss: 0.0196 - val_accuracy: 0.9904\n",
            "Epoch 35/100\n",
            "13/13 [==============================] - ETA: 0s - loss: 0.0027 - accuracy: 1.0000\n",
            "Epoch 35: val_accuracy did not improve from 1.00000\n",
            "13/13 [==============================] - 5s 354ms/step - loss: 0.0027 - accuracy: 1.0000 - val_loss: 0.0195 - val_accuracy: 0.9904\n",
            "Epoch 36/100\n",
            "13/13 [==============================] - ETA: 0s - loss: 0.0024 - accuracy: 1.0000\n",
            "Epoch 36: val_accuracy did not improve from 1.00000\n",
            "13/13 [==============================] - 5s 366ms/step - loss: 0.0024 - accuracy: 1.0000 - val_loss: 0.0190 - val_accuracy: 0.9904\n",
            "Epoch 37/100\n",
            "13/13 [==============================] - ETA: 0s - loss: 0.0033 - accuracy: 1.0000\n",
            "Epoch 37: val_accuracy did not improve from 1.00000\n",
            "13/13 [==============================] - 4s 342ms/step - loss: 0.0033 - accuracy: 1.0000 - val_loss: 0.0174 - val_accuracy: 1.0000\n"
          ]
        },
        {
          "output_type": "display_data",
          "data": {
            "text/plain": [
              "<Figure size 640x480 with 1 Axes>"
            ],
            "image/png": "[encoded data removed]"
          },
          "metadata": {}
        },
        {
          "output_type": "display_data",
          "data": {
            "text/plain": [
              "<Figure size 640x480 with 0 Axes>"
            ]
          },
          "metadata": {}
        },
        {
          "output_type": "display_data",
          "data": {
            "text/plain": [
              "<Figure size 640x480 with 1 Axes>"
            ],
            "image/png": "[encoded data removed]"
          },
          "metadata": {}
        },
        {
          "output_type": "display_data",
          "data": {
            "text/plain": [
              "<Figure size 640x480 with 0 Axes>"
            ]
          },
          "metadata": {}
        }
      ]
    },
    {
      "cell_type": "code",
      "source": [
        "#prediction\n",
        "\n",
        "MobileNetV2_best_model = MobileNetV2_final_model\n",
        "\n",
        "def mode(my_list):\n",
        "    ct = Counter(my_list)\n",
        "    max_value = max(ct.values())\n",
        "    return ([key for key, value in ct.items() if value == max_value])\n",
        "\n",
        "true_value = []\n",
        "combined_model_pred = []\n",
        "MobileNetV2_pred = []\n",
        "for folder in os.listdir(seg_pred_folders):\n",
        "\n",
        "    test_image_ids = os.listdir(os.path.join(seg_pred_folders,folder))\n",
        "\n",
        "    for image_id in test_image_ids[:int(len(test_image_ids))]:\n",
        "\n",
        "        path = os.path.join(seg_pred_folders,folder,image_id)\n",
        "\n",
        "        true_value.append(validation_generator.class_indices[folder])\n",
        "        img = cv2.resize(cv2.imread(path),(224,224))\n",
        "        img_normalized = img/255\n",
        "\n",
        "        #MobileNetV2\n",
        "        MobileNetV2_image_prediction = np.argmax(MobileNetV2_best_model.predict(np.array([img_normalized])))\n",
        "        MobileNetV2_pred.append(MobileNetV2_image_prediction)\n",
        "\n",
        "from sklearn.metrics import confusion_matrix\n",
        "import itertools\n",
        "#from mlxtend.plotting import plot_confusion_matrix\n",
        "def clf_report(true_value, model_pred):\n",
        "\n",
        "    classes = validation_generator.class_indices.keys()\n",
        "    TP_count = [true_value[i] == model_pred[i] for i in range(len(true_value))]\n",
        "    model_accuracy = np.sum(TP_count)/len(TP_count)\n",
        "    print('Model Accuracy', model_accuracy)\n",
        "\n",
        "    plt.figure(figsize=(7,7))\n",
        "    cm = confusion_matrix(true_value,model_pred)\n",
        "    plt.imshow(cm,interpolation='nearest',cmap=plt.cm.viridis)\n",
        "    plt.title('Confusion Matrix')\n",
        "    plt.colorbar()\n",
        "    tick_marks = np.arange(len(classes))\n",
        "    plt.xticks(tick_marks, classes, rotation=45)\n",
        "    plt.yticks(tick_marks, classes)\n",
        "    thresh = cm.max()*0.8\n",
        "    for i,j in itertools.product(range(cm.shape[0]),range(cm.shape[1])):\n",
        "        plt.text(j,i,cm[i,j],\n",
        "                horizontalalignment=\"center\",\n",
        "                color=\"black\" if cm[i,j] > thresh else \"white\")\n",
        "        pass\n",
        "\n",
        "    plt.ylabel('True Label')\n",
        "    plt.xlabel('Predicted Label')\n",
        "    pass\n",
        "\n",
        "    print(classification_report(true_value, model_pred, target_names = list(classes)))\n",
        "\n",
        "# MobileNetV2 model classification report\n",
        "clf_report(true_value, MobileNetV2_pred)"
      ],
      "metadata": {
        "colab": {
          "base_uri": "https://localhost:8080/"
        },
        "id": "O_nxNDr_vvq5",
        "outputId": "8f9dd691-c633-4124-e2c6-52f8e8916aea"
      },
      "execution_count": null,
      "outputs": [
        {
          "output_type": "stream",
          "name": "stdout",
          "text": [
            "1/1 [==============================] - 1s 719ms/step\n",
            "1/1 [==============================] - 0s 22ms/step\n",
            "1/1 [==============================] - 0s 21ms/step\n",
            "1/1 [==============================] - 0s 25ms/step\n",
            "1/1 [==============================] - 0s 24ms/step\n",
            "1/1 [==============================] - 0s 29ms/step\n",
            "1/1 [==============================] - 0s 26ms/step\n",
            "1/1 [==============================] - 0s 21ms/step\n",
            "1/1 [==============================] - 0s 22ms/step\n",
            "1/1 [==============================] - 0s 21ms/step\n",
            "1/1 [==============================] - 0s 23ms/step\n",
            "1/1 [==============================] - 0s 24ms/step\n",
            "1/1 [==============================] - 0s 21ms/step\n",
            "1/1 [==============================] - 0s 22ms/step\n",
            "1/1 [==============================] - 0s 22ms/step\n",
            "1/1 [==============================] - 0s 22ms/step\n",
            "1/1 [==============================] - 0s 21ms/step\n",
            "1/1 [==============================] - 0s 23ms/step\n",
            "1/1 [==============================] - 0s 22ms/step\n",
            "1/1 [==============================] - 0s 22ms/step\n",
            "1/1 [==============================] - 0s 22ms/step\n",
            "1/1 [==============================] - 0s 21ms/step\n",
            "1/1 [==============================] - 0s 22ms/step\n",
            "1/1 [==============================] - 0s 23ms/step\n",
            "1/1 [==============================] - 0s 20ms/step\n",
            "1/1 [==============================] - 0s 22ms/step\n",
            "1/1 [==============================] - 0s 23ms/step\n",
            "1/1 [==============================] - 0s 21ms/step\n",
            "1/1 [==============================] - 0s 22ms/step\n",
            "1/1 [==============================] - 0s 21ms/step\n",
            "1/1 [==============================] - 0s 21ms/step\n",
            "1/1 [==============================] - 0s 22ms/step\n",
            "1/1 [==============================] - 0s 21ms/step\n",
            "1/1 [==============================] - 0s 22ms/step\n",
            "1/1 [==============================] - 0s 21ms/step\n",
            "1/1 [==============================] - 0s 21ms/step\n",
            "1/1 [==============================] - 0s 21ms/step\n",
            "1/1 [==============================] - 0s 22ms/step\n",
            "1/1 [==============================] - 0s 21ms/step\n",
            "1/1 [==============================] - 0s 22ms/step\n",
            "1/1 [==============================] - 0s 22ms/step\n",
            "1/1 [==============================] - 0s 22ms/step\n",
            "1/1 [==============================] - 0s 25ms/step\n",
            "1/1 [==============================] - 0s 23ms/step\n",
            "1/1 [==============================] - 0s 22ms/step\n",
            "1/1 [==============================] - 0s 22ms/step\n",
            "1/1 [==============================] - 0s 23ms/step\n",
            "1/1 [==============================] - 0s 26ms/step\n",
            "1/1 [==============================] - 0s 22ms/step\n",
            "1/1 [==============================] - 0s 22ms/step\n",
            "1/1 [==============================] - 0s 26ms/step\n",
            "1/1 [==============================] - 0s 26ms/step\n",
            "1/1 [==============================] - 0s 21ms/step\n",
            "1/1 [==============================] - 0s 21ms/step\n",
            "1/1 [==============================] - 0s 20ms/step\n",
            "1/1 [==============================] - 0s 22ms/step\n",
            "1/1 [==============================] - 0s 21ms/step\n",
            "1/1 [==============================] - 0s 22ms/step\n",
            "1/1 [==============================] - 0s 22ms/step\n",
            "1/1 [==============================] - 0s 22ms/step\n",
            "1/1 [==============================] - 0s 21ms/step\n",
            "1/1 [==============================] - 0s 21ms/step\n",
            "1/1 [==============================] - 0s 20ms/step\n",
            "1/1 [==============================] - 0s 21ms/step\n",
            "1/1 [==============================] - 0s 21ms/step\n",
            "1/1 [==============================] - 0s 21ms/step\n",
            "1/1 [==============================] - 0s 21ms/step\n",
            "1/1 [==============================] - 0s 22ms/step\n",
            "1/1 [==============================] - 0s 23ms/step\n",
            "1/1 [==============================] - 0s 21ms/step\n",
            "1/1 [==============================] - 0s 21ms/step\n",
            "1/1 [==============================] - 0s 21ms/step\n",
            "1/1 [==============================] - 0s 21ms/step\n",
            "1/1 [==============================] - 0s 22ms/step\n",
            "1/1 [==============================] - 0s 21ms/step\n",
            "1/1 [==============================] - 0s 22ms/step\n",
            "1/1 [==============================] - 0s 22ms/step\n",
            "1/1 [==============================] - 0s 22ms/step\n",
            "1/1 [==============================] - 0s 21ms/step\n",
            "1/1 [==============================] - 0s 21ms/step\n",
            "1/1 [==============================] - 0s 23ms/step\n",
            "1/1 [==============================] - 0s 21ms/step\n",
            "1/1 [==============================] - 0s 25ms/step\n",
            "1/1 [==============================] - 0s 21ms/step\n",
            "1/1 [==============================] - 0s 22ms/step\n",
            "1/1 [==============================] - 0s 21ms/step\n",
            "1/1 [==============================] - 0s 21ms/step\n",
            "1/1 [==============================] - 0s 21ms/step\n",
            "1/1 [==============================] - 0s 22ms/step\n",
            "1/1 [==============================] - 0s 22ms/step\n",
            "1/1 [==============================] - 0s 23ms/step\n",
            "1/1 [==============================] - 0s 22ms/step\n",
            "1/1 [==============================] - 0s 23ms/step\n",
            "1/1 [==============================] - 0s 24ms/step\n",
            "1/1 [==============================] - 0s 22ms/step\n",
            "1/1 [==============================] - 0s 23ms/step\n",
            "Model Accuracy 0.6458333333333334\n",
            "                  precision    recall  f1-score   support\n",
            "\n",
            "red_flour_beetle       0.77      0.42      0.54        48\n",
            "     rice_weevil       0.60      0.88      0.71        48\n",
            "\n",
            "        accuracy                           0.65        96\n",
            "       macro avg       0.68      0.65      0.63        96\n",
            "    weighted avg       0.68      0.65      0.63        96\n",
            "\n"
          ]
        },
        {
          "output_type": "display_data",
          "data": {
            "text/plain": [
              "<Figure size 700x700 with 2 Axes>"
            ],
            "image/png": "[encoded data removed]"
          },
          "metadata": {}
        }
      ]
    }
  ]
}